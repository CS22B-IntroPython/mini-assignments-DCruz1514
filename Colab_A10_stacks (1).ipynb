{
  "cells": [
    {
      "cell_type": "markdown",
      "source": [
        "##**Stack Questions**"
      ],
      "metadata": {
        "id": "cP32wAV3Yi-4"
      }
    },
    {
      "cell_type": "markdown",
      "source": [
        "## Question 1: Write a function to sort a stack."
      ],
      "metadata": {
        "id": "KqdNjm1oY_ss"
      }
    },
    {
      "cell_type": "code",
      "source": [
        "def sort_stack(stack):\n",
        "    stack = [34, 3, 31, 98, 92, 23]\n",
        "    stack.sort()\n",
        "    return stack\n",
        "    stack = []\n",
        "stack = sort_stack(stack)\n",
        "print(stack)  # Print the returned sorted stack"
      ],
      "metadata": {
        "id": "mb9K46p3Ym0N",
        "outputId": "bb358da1-7221-45bd-c370-c652a39158c6",
        "colab": {
          "base_uri": "https://localhost:8080/"
        }
      },
      "execution_count": 12,
      "outputs": [
        {
          "output_type": "stream",
          "name": "stdout",
          "text": [
            "[3, 23, 31, 34, 92, 98]\n"
          ]
        }
      ]
    },
    {
      "cell_type": "markdown",
      "metadata": {
        "id": "jFxb6ss_Whwl"
      },
      "source": [
        "## Question 2: Depict the following image as a list.\n",
        "\n",
        "<img src=\"https://miro.medium.com/max/1050/1*XifPIMxbamGKhz5UAEdz2w.png\">\n",
        "\n",
        "#### Queue\n",
        "1. Add the number 9 to the list.\n",
        "2. Remove the first number (7) from the list.\n",
        "\n",
        "#### Stack\n",
        "3. Add the number 4 to the same list.\n",
        "4. Remove the last number added (4) from the list."
      ]
    },
    {
      "cell_type": "code",
      "execution_count": 24,
      "metadata": {
        "id": "XOm7YLTEWhwm",
        "colab": {
          "base_uri": "https://localhost:8080/"
        },
        "outputId": "1cd188c0-4ade-4f3f-931d-bbe7604c0de2"
      },
      "outputs": [
        {
          "output_type": "stream",
          "name": "stdout",
          "text": [
            "[7, 3, 1, 6, 8, '9']\n",
            "[3, 1, 6, 8, '9']\n"
          ]
        }
      ],
      "source": [
        "#Your Answer:\n",
        "\n",
        "queue = []\n",
        "queue = [7,3,1,6,8]\n",
        "queue.append('9')\n",
        "print(queue)\n",
        "(queue.pop(0))\n",
        "print(queue)"
      ]
    },
    {
      "cell_type": "code",
      "source": [
        "stack = []\n",
        "stack = [7,3,1,6,8]\n",
        "stack.append('4')\n",
        "print(stack)\n",
        "\n",
        "stack.pop()\n",
        "print(stack)"
      ],
      "metadata": {
        "colab": {
          "base_uri": "https://localhost:8080/"
        },
        "id": "lTRmly9OZBn4",
        "outputId": "f1d7bb66-e164-4319-c144-834d671fb244"
      },
      "execution_count": 27,
      "outputs": [
        {
          "output_type": "stream",
          "name": "stdout",
          "text": [
            "[7, 3, 1, 6, 8, '4']\n",
            "[7, 3, 1, 6, 8]\n"
          ]
        }
      ]
    },
    {
      "cell_type": "code",
      "source": [],
      "metadata": {
        "id": "YwagkKLcYAJT"
      },
      "execution_count": null,
      "outputs": []
    },
    {
      "cell_type": "markdown",
      "metadata": {
        "id": "tQ3kgHVtWhwn"
      },
      "source": [
        "#### Question 3: Nodes\n",
        "\n",
        "<img src=\"https://encrypted-tbn0.gstatic.com/images?q=tbn:ANd9GcQW8-twGk0hCILE-muHBnG93hZJh2Qvgs7pVA&s\">\n",
        "\n",
        "1. Use a data structure of your choice to denote the different nodes.\n",
        "\n",
        "2. Create a function that sums all of the \"children\". Test with the node 10 (Expected answer is 37).\n"
      ]
    },
    {
      "cell_type": "code",
      "execution_count": 28,
      "metadata": {
        "id": "UU0rjzjXWhwn"
      },
      "outputs": [],
      "source": [
        "#Your Answer:\n",
        "graph = { \"1\" : [\"3\"],\n",
        "          \"3\" : [\"6\", \"8\"],\n",
        "          \"6\" : [\"4\", \"7\"],\n",
        "          \"8\" : [\"10\"],\n",
        "          \"10\" : [\"14\"],\n",
        "          \"14\" : [\"13\"],\n",
        "\n",
        "        }\n"
      ]
    },
    {
      "cell_type": "code",
      "source": [
        "#! pip install networkx matplotlib\n",
        "import networkx as nx\n",
        "import matplotlib.pyplot as plt\n",
        "G = nx.Graph(graph)\n",
        "pos = nx.spring_layout(G)  # positions for all nodes\n",
        "nx.draw(G, pos, with_labels=True)\n",
        "plt.show()\n",
        "print(G.edges)"
      ],
      "metadata": {
        "colab": {
          "base_uri": "https://localhost:8080/",
          "height": 533
        },
        "id": "0FKzJCrLbR7g",
        "outputId": "5c0af7e5-b7ec-4ff5-8d8f-b22aad51a244"
      },
      "execution_count": 29,
      "outputs": [
        {
          "output_type": "display_data",
          "data": {
            "text/plain": [
              "<Figure size 640x480 with 1 Axes>"
            ],
            "image/png": "[encoded data removed]"
          },
          "metadata": {}
        },
        {
          "output_type": "stream",
          "name": "stdout",
          "text": [
            "[('1', '3'), ('3', '6'), ('3', '8'), ('6', '4'), ('6', '7'), ('8', '10'), ('10', '14'), ('14', '13')]\n"
          ]
        }
      ]
    },
    {
      "cell_type": "code",
      "source": [
        "def sum_children(graph, node):\n",
        "    total_sum = 0\n",
        "    if node in graph:\n",
        "        for child in graph[node]:\n",
        "            total_sum += int(child)\n",
        "    return total_sum\n",
        "\n",
        "# Test with node 10\n",
        "graph = {\n",
        "    \"1\": [\"3\"],\n",
        "    \"3\": [\"6\", \"8\"],\n",
        "    \"6\": [\"4\", \"7\"],\n",
        "    \"8\": [\"10\"],\n",
        "    \"10\": [\"14\"],\n",
        "    \"14\": [\"13\"]\n",
        "}\n",
        "result = sum_children(graph, \"10\")\n",
        "print(f\"Sum of children for node 10: {result}\")"
      ],
      "metadata": {
        "colab": {
          "base_uri": "https://localhost:8080/"
        },
        "id": "5O4Z1cvscaHz",
        "outputId": "81ca39ec-2b92-4753-d627-cb1ac298feda"
      },
      "execution_count": 30,
      "outputs": [
        {
          "output_type": "stream",
          "name": "stdout",
          "text": [
            "Sum of children for node 10: 14\n"
          ]
        }
      ]
    }
  ],
  "metadata": {
    "hide_input": false,
    "kernelspec": {
      "display_name": "Python 3",
      "language": "python",
      "name": "python3"
    },
    "language_info": {
      "codemirror_mode": {
        "name": "ipython",
        "version": 3
      },
      "file_extension": ".py",
      "mimetype": "text/x-python",
      "name": "python",
      "nbconvert_exporter": "python",
      "pygments_lexer": "ipython3",
      "version": "3.8.3"
    },
    "toc": {
      "base_numbering": 1,
      "nav_menu": {},
      "number_sections": true,
      "sideBar": true,
      "skip_h1_title": false,
      "title_cell": "Table of Contents",
      "title_sidebar": "Contents",
      "toc_cell": false,
      "toc_position": {},
      "toc_section_display": true,
      "toc_window_display": false
    },
    "colab": {
      "provenance": []
    }
  },
  "nbformat": 4,
  "nbformat_minor": 0
}